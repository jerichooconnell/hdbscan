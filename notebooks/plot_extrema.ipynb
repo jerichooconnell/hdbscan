{
 "cells": [
  {
   "cell_type": "code",
   "execution_count": 1,
   "metadata": {
    "collapsed": false
   },
   "outputs": [],
   "source": [
    "%matplotlib inline"
   ]
  },
  {
   "cell_type": "markdown",
   "metadata": {},
   "source": [
    "\n",
    "# Extrema\n",
    "\n",
    "\n",
    "We detect local maxima in a galaxy image. The image is corrupted by noise,\n",
    "generating many local maxima. To keep only those maxima with sufficient\n",
    "local contrast, we use h-maxima.\n",
    "\n"
   ]
  },
  {
   "cell_type": "code",
   "execution_count": 2,
   "metadata": {
    "collapsed": false
   },
   "outputs": [
    {
     "ename": "ImportError",
     "evalue": "cannot import name 'extrema'",
     "output_type": "error",
     "traceback": [
      "\u001b[0;31m---------------------------------------------------------------------------\u001b[0m",
      "\u001b[0;31mImportError\u001b[0m                               Traceback (most recent call last)",
      "\u001b[0;32m<ipython-input-2-0bdcb2708802>\u001b[0m in \u001b[0;36m<module>\u001b[0;34m()\u001b[0m\n\u001b[1;32m      6\u001b[0m \u001b[0;32mfrom\u001b[0m \u001b[0mskimage\u001b[0m \u001b[0;32mimport\u001b[0m \u001b[0mdata\u001b[0m\u001b[0;34m\u001b[0m\u001b[0m\n\u001b[1;32m      7\u001b[0m \u001b[0;32mfrom\u001b[0m \u001b[0mskimage\u001b[0m \u001b[0;32mimport\u001b[0m \u001b[0mcolor\u001b[0m\u001b[0;34m\u001b[0m\u001b[0m\n\u001b[0;32m----> 8\u001b[0;31m \u001b[0;32mfrom\u001b[0m \u001b[0mskimage\u001b[0m\u001b[0;34m.\u001b[0m\u001b[0mmorphology\u001b[0m \u001b[0;32mimport\u001b[0m \u001b[0mextrema\u001b[0m\u001b[0;34m\u001b[0m\u001b[0m\n\u001b[0m\u001b[1;32m      9\u001b[0m \u001b[0;32mfrom\u001b[0m \u001b[0mskimage\u001b[0m \u001b[0;32mimport\u001b[0m \u001b[0mexposure\u001b[0m\u001b[0;34m\u001b[0m\u001b[0m\n\u001b[1;32m     10\u001b[0m \u001b[0;32mfrom\u001b[0m \u001b[0mscipy\u001b[0m\u001b[0;34m.\u001b[0m\u001b[0mio\u001b[0m \u001b[0;32mimport\u001b[0m \u001b[0mloadmat\u001b[0m\u001b[0;34m\u001b[0m\u001b[0m\n",
      "\u001b[0;31mImportError\u001b[0m: cannot import name 'extrema'"
     ]
    }
   ],
   "source": [
    "import numpy as np\n",
    "\n",
    "import matplotlib.pyplot as plt\n",
    "\n",
    "from skimage.measure import label\n",
    "from skimage import data\n",
    "from skimage import color\n",
    "from skimage.morphology import extrema\n",
    "from skimage import exposure\n",
    "from scipy.io import loadmat\n",
    "\n",
    "y_pred = loadmat('2'+'glass')['Z'][:,0]\n",
    "\n",
    "img = np.reshape(y_pred, (20,68), order=\"F\")\n",
    "\n",
    "# the rescaling is done only for visualization purpose.\n",
    "# the algorithms would work identically in an unscaled version of the\n",
    "# image. However, the parameter h needs to be adapted to the scale.\n",
    "img = exposure.rescale_intensity(img)\n",
    "\n",
    "# We find all local maxima\n",
    "local_maxima = extrema.local_maxima(img)\n",
    "label_maxima = label(local_maxima)\n",
    "overlay = color.label2rgb(label_maxima, img, alpha=0.7, bg_label=0,\n",
    "                          bg_color=None, colors=[(1, 0, 0)])\n",
    "\n",
    "# We observed in the previous image, that there are many local maxima\n",
    "# that are caused by the noise in the image.\n",
    "# For this, we find all local maxima with a height of h.\n",
    "# This height is the gray level value by which we need to descent\n",
    "# in order to reach a higher maximum and it can be seen as a local\n",
    "# contrast measurement.\n",
    "# The value of h scales with the dynamic range of the image, i.e.\n",
    "# if we multiply the image with a constant, we need to multiply\n",
    "# the value of h with the same constant in order to achieve the same result.\n",
    "h = 0.2\n",
    "h_maxima = extrema.h_maxima(img, h)\n",
    "label_h_maxima = label(h_maxima)\n",
    "overlay_h = color.label2rgb(label_h_maxima, img, alpha=0.7, bg_label=0,\n",
    "                            bg_color=None, colors=[(1, 0, 0)])\n",
    "\n",
    "# GRAPHICAL OUTPUT\n",
    "\n",
    "\n",
    "\n",
    "# a new figure with 3 subplots\n",
    "fig, ax = plt.subplots(1, 3, figsize=(15, 5))\n",
    "\n",
    "ax[0].imshow(img, cmap='gray', interpolation='none')\n",
    "ax[0].set_title('Original image')\n",
    "ax[0].axis('off')\n",
    "\n",
    "ax[1].imshow(overlay, interpolation='none')\n",
    "ax[1].set_title('Local Maxima')\n",
    "ax[1].axis('off')\n",
    "\n",
    "ax[2].imshow(overlay_h, interpolation='none')\n",
    "ax[2].set_title('h maxima for h = %.2f' % h)\n",
    "ax[2].axis('off')\n",
    "\n",
    "plt.savefig('SPIKES.png')"
   ]
  },
  {
   "cell_type": "code",
   "execution_count": 95,
   "metadata": {},
   "outputs": [
    {
     "ename": "NameError",
     "evalue": "name 'extrema' is not defined",
     "output_type": "error",
     "traceback": [
      "\u001b[0;31m---------------------------------------------------------------------------\u001b[0m",
      "\u001b[0;31mNameError\u001b[0m                                 Traceback (most recent call last)",
      "\u001b[0;32m<ipython-input-95-b4a4bf0c1c24>\u001b[0m in \u001b[0;36m<module>\u001b[0;34m()\u001b[0m\n\u001b[1;32m      2\u001b[0m \u001b[0;34m\u001b[0m\u001b[0m\n\u001b[1;32m      3\u001b[0m \u001b[0mimg\u001b[0m \u001b[0;34m=\u001b[0m \u001b[0mnp\u001b[0m\u001b[0;34m.\u001b[0m\u001b[0minvert\u001b[0m\u001b[0;34m(\u001b[0m\u001b[0mimg\u001b[0m\u001b[0;34m)\u001b[0m\u001b[0;34m\u001b[0m\u001b[0m\n\u001b[0;32m----> 4\u001b[0;31m \u001b[0mlocal_maxima\u001b[0m \u001b[0;34m=\u001b[0m \u001b[0mextrema\u001b[0m\u001b[0;34m.\u001b[0m\u001b[0mlocal_maxima\u001b[0m\u001b[0;34m(\u001b[0m\u001b[0mimg\u001b[0m\u001b[0;34m)\u001b[0m\u001b[0;34m\u001b[0m\u001b[0m\n\u001b[0m\u001b[1;32m      5\u001b[0m \u001b[0mlabel_maxima\u001b[0m \u001b[0;34m=\u001b[0m \u001b[0mlabel\u001b[0m\u001b[0;34m(\u001b[0m\u001b[0mlocal_maxima\u001b[0m\u001b[0;34m)\u001b[0m\u001b[0;34m\u001b[0m\u001b[0m\n\u001b[1;32m      6\u001b[0m overlay = color.label2rgb(label_maxima, img, alpha=0.7, bg_label=0,\n",
      "\u001b[0;31mNameError\u001b[0m: name 'extrema' is not defined"
     ]
    }
   ],
   "source": [
    "# We find all local maxima\n",
    "\n",
    "img = np.invert(img)\n",
    "local_maxima = extrema.local_maxima(img)\n",
    "label_maxima = label(local_maxima)\n",
    "overlay = color.label2rgb(label_maxima, img, alpha=0.7, bg_label=0,\n",
    "                          bg_color=None, colors=[(1, 0, 0)])\n",
    "\n",
    "# We observed in the previous image, that there are many local maxima\n",
    "# that are caused by the noise in the image.\n",
    "# For this, we find all local maxima with a height of h.\n",
    "# This height is the gray level value by which we need to descent\n",
    "# in order to reach a higher maximum and it can be seen as a local\n",
    "# contrast measurement.\n",
    "# The value of h scales with the dynamic range of the image, i.e.\n",
    "# if we multiply the image with a constant, we need to multiply\n",
    "# the value of h with the same constant in order to achieve the same result.\n",
    "h = 0.2\n",
    "h_maxima = extrema.h_maxima(img, h)\n",
    "label_h_maxima = label(h_maxima)\n",
    "overlay_h = color.label2rgb(label_h_maxima, img, alpha=0.7, bg_label=0,\n",
    "                            bg_color=None, colors=[(1, 0, 0)])\n",
    "\n",
    "# GRAPHICAL OUTPUT\n",
    "\n",
    "\n",
    "\n",
    "# a new figure with 3 subplots\n",
    "fig, ax = plt.subplots(1, 3, figsize=(15, 5))\n",
    "\n",
    "ax[0].imshow(img, cmap='gray', interpolation='none')\n",
    "ax[0].set_title('Original image')\n",
    "ax[0].axis('off')\n",
    "\n",
    "ax[1].imshow(overlay, interpolation='none')\n",
    "ax[1].set_title('Local Maxima')\n",
    "ax[1].axis('off')\n",
    "\n",
    "ax[2].imshow(overlay_h, interpolation='none')\n",
    "ax[2].set_title('h maxima for h = %.2f' % h)\n",
    "ax[2].axis('off')\n",
    "plt.show()"
   ]
  },
  {
   "cell_type": "markdown",
   "metadata": {},
   "source": [
    "Feature Extraction"
   ]
  },
  {
   "cell_type": "code",
   "execution_count": 78,
   "metadata": {},
   "outputs": [],
   "source": [
    "from keras.applications.resnet50 import ResNet50\n",
    "from keras.preprocessing import image\n",
    "from keras.applications.resnet50 import preprocess_input\n",
    "from scipy.io import loadmat\n",
    "from sklearn.decomposition import FastICA, PCA\n",
    "from sklearn.manifold import TSNE\n",
    "\n",
    "import numpy as np"
   ]
  },
  {
   "cell_type": "code",
   "execution_count": 23,
   "metadata": {},
   "outputs": [
    {
     "name": "stderr",
     "output_type": "stream",
     "text": [
      "/home/jerichooconnell/anaconda3/lib/python3.5/site-packages/keras_applications/resnet50.py:263: UserWarning: The output shape of `ResNet50(include_top=False)` has been changed since Keras 2.2.0.\n",
      "  warnings.warn('The output shape of `ResNet50(include_top=False)` '\n"
     ]
    },
    {
     "name": "stdout",
     "output_type": "stream",
     "text": [
      "Downloading data from https://github.com/fchollet/deep-learning-models/releases/download/v0.2/resnet50_weights_tf_dim_ordering_tf_kernels_notop.h5\n",
      "94658560/94653016 [==============================] - 27s 0us/step\n"
     ]
    }
   ],
   "source": [
    "model = ResNet50(weights='imagenet', include_top=False)"
   ]
  },
  {
   "cell_type": "code",
   "execution_count": 91,
   "metadata": {},
   "outputs": [],
   "source": [
    "dataset = 'steel'\n",
    "\n",
    "# Load the matlab array and reshape to the right size\n",
    "X = loadmat('all'+dataset)['Z'][:,1:4]\n",
    "X = PCA(n_components=3).fit_transform(X)  \n",
    "X = np.reshape(X, (20,68,3), order=\"F\")\n",
    "\n",
    "im_1 = image.array_to_img(X)\n",
    "image.save_img('elephant2.jpg',im_1)\n",
    "\n",
    "img_path = 'elephant2.jpg'\n",
    "img = image.load_img(img_path, target_size=(224, 224))\n",
    "x = image.img_to_array(img)\n",
    "x = np.expand_dims(x, axis=0)\n",
    "x = preprocess_input(x)\n",
    "\n",
    "features = model.predict(x)\n",
    "features_arr = np.char.mod('%f', features)\n",
    "\n",
    "\n",
    "plotting_vecs = FastICA(n_components=2).fit_transform(features_arr.reshape([2048,7*7]))  "
   ]
  },
  {
   "cell_type": "code",
   "execution_count": 92,
   "metadata": {},
   "outputs": [
    {
     "data": {
      "text/plain": [
       "<matplotlib.collections.PathCollection at 0x7f4c96d369b0>"
      ]
     },
     "execution_count": 92,
     "metadata": {},
     "output_type": "execute_result"
    },
    {
     "data": {
      "image/png": "[encoded data removed]",
      "text/plain": [
       "<Figure size 432x288 with 1 Axes>"
      ]
     },
     "metadata": {
      "needs_background": "light"
     },
     "output_type": "display_data"
    }
   ],
   "source": [
    "plt.scatter(plotting_vecs[:,0],plotting_vecs[:,1])"
   ]
  },
  {
   "cell_type": "code",
   "execution_count": 93,
   "metadata": {},
   "outputs": [
    {
     "ename": "SyntaxError",
     "evalue": "invalid syntax (<ipython-input-93-c59b21cdfaaf>, line 1)",
     "output_type": "error",
     "traceback": [
      "\u001b[0;36m  File \u001b[0;32m\"<ipython-input-93-c59b21cdfaaf>\"\u001b[0;36m, line \u001b[0;32m1\u001b[0m\n\u001b[0;31m    import sklearn.manifold.t_sne.\u001b[0m\n\u001b[0m                                  ^\u001b[0m\n\u001b[0;31mSyntaxError\u001b[0m\u001b[0;31m:\u001b[0m invalid syntax\n"
     ]
    }
   ],
   "source": [
    "import sklearn.manifold.t_sne.\n"
   ]
  },
  {
   "cell_type": "code",
   "execution_count": 37,
   "metadata": {},
   "outputs": [
    {
     "data": {
      "text/plain": [
       "[<matplotlib.lines.Line2D at 0x7f4c9364ef28>]"
      ]
     },
     "execution_count": 37,
     "metadata": {},
     "output_type": "execute_result"
    },
    {
     "data": {
      "image/png": "[encoded data removed]",
      "text/plain": [
       "<Figure size 432x288 with 1 Axes>"
      ]
     },
     "metadata": {
      "needs_background": "light"
     },
     "output_type": "display_data"
    }
   ],
   "source": [
    "features_arr.shape()"
   ]
  },
  {
   "cell_type": "code",
   "execution_count": 35,
   "metadata": {},
   "outputs": [
    {
     "data": {
      "text/plain": [
       "[<matplotlib.lines.Line2D at 0x7f4c936922e8>]"
      ]
     },
     "execution_count": 35,
     "metadata": {},
     "output_type": "execute_result"
    },
    {
     "data": {
      "image/png": "[encoded data removed]",
      "text/plain": [
       "<Figure size 432x288 with 1 Axes>"
      ]
     },
     "metadata": {
      "needs_background": "light"
     },
     "output_type": "display_data"
    }
   ],
   "source": [
    "plot(features.flatten())"
   ]
  },
  {
   "cell_type": "code",
   "execution_count": 33,
   "metadata": {},
   "outputs": [
    {
     "data": {
      "text/plain": [
       "[<matplotlib.lines.Line2D at 0x7f4c95c679b0>]"
      ]
     },
     "execution_count": 33,
     "metadata": {},
     "output_type": "execute_result"
    },
    {
     "data": {
      "image/png": "[encoded data removed]",
      "text/plain": [
       "<Figure size 432x288 with 1 Axes>"
      ]
     },
     "metadata": {
      "needs_background": "light"
     },
     "output_type": "display_data"
    }
   ],
   "source": [
    "plot(features.flatten())"
   ]
  },
  {
   "cell_type": "code",
   "execution_count": 31,
   "metadata": {},
   "outputs": [
    {
     "data": {
      "text/plain": [
       "[<matplotlib.lines.Line2D at 0x7f4c97ab1278>]"
      ]
     },
     "execution_count": 31,
     "metadata": {},
     "output_type": "execute_result"
    },
    {
     "data": {
      "image/png": "[encoded data removed]",
      "text/plain": [
       "<Figure size 432x288 with 1 Axes>"
      ]
     },
     "metadata": {
      "needs_background": "light"
     },
     "output_type": "display_data"
    }
   ],
   "source": [
    "plot(features.flatten())"
   ]
  },
  {
   "cell_type": "code",
   "execution_count": 29,
   "metadata": {},
   "outputs": [
    {
     "data": {
      "text/plain": [
       "[<matplotlib.lines.Line2D at 0x7f4c96172f28>]"
      ]
     },
     "execution_count": 29,
     "metadata": {},
     "output_type": "execute_result"
    },
    {
     "data": {
      "image/png": "[encoded data removed]",
      "text/plain": [
       "<Figure size 432x288 with 1 Axes>"
      ]
     },
     "metadata": {
      "needs_background": "light"
     },
     "output_type": "display_data"
    }
   ],
   "source": [
    "plot(features.flatten())"
   ]
  },
  {
   "cell_type": "code",
   "execution_count": 16,
   "metadata": {},
   "outputs": [],
   "source": [
    "keras.applications.resnet50.ResNet50"
   ]
  },
  {
   "cell_type": "code",
   "execution_count": 4,
   "metadata": {},
   "outputs": [],
   "source": [
    "import google.protobuf"
   ]
  },
  {
   "cell_type": "code",
   "execution_count": 5,
   "metadata": {},
   "outputs": [
    {
     "data": {
      "text/plain": [
       "\u001b[0;31mType:\u001b[0m        module\n",
       "\u001b[0;31mString form:\u001b[0m <module 'google.protobuf' from '/home/jerichooconnell/anaconda3/lib/python3.5/site-packages/google/protobuf/__init__.py'>\n",
       "\u001b[0;31mFile:\u001b[0m        ~/anaconda3/lib/python3.5/site-packages/google/protobuf/__init__.py\n",
       "\u001b[0;31mDocstring:\u001b[0m   <no docstring>\n"
      ]
     },
     "metadata": {},
     "output_type": "display_data"
    }
   ],
   "source": [
    "google.protobuf?"
   ]
  },
  {
   "cell_type": "code",
   "execution_count": 4,
   "metadata": {},
   "outputs": [
    {
     "name": "stdout",
     "output_type": "stream",
     "text": [
      "absl-py==0.6.1\n",
      "alabaster==0.7.7\n",
      "anaconda-client==1.4.0\n",
      "anaconda-navigator==1.1.0\n",
      "argcomplete==1.0.0\n",
      "astor==0.7.1\n",
      "astroid==2.0.4\n",
      "astropy==1.1.2\n",
      "autopep8==1.4.3\n",
      "Babel==2.2.0\n",
      "backcall==0.1.0\n",
      "beautifulsoup4==4.4.1\n",
      "bitarray==0.8.1\n",
      "blaze==0.9.1\n",
      "bokeh==0.11.1\n",
      "boto==2.39.0\n",
      "Bottleneck==1.0.0\n",
      "certifi==2018.8.24\n",
      "cffi==1.11.5\n",
      "chest==0.2.3\n",
      "cloudpickle==0.1.1\n",
      "clyent==1.2.1\n",
      "colorama==0.3.7\n",
      "conda==4.5.11\n",
      "conda-build==1.20.0\n",
      "conda-manager==0.3.1\n",
      "configobj==5.0.6\n",
      "cryptography==1.4\n",
      "cycler==0.10.0\n",
      "Cython==0.23.4\n",
      "cytoolz==0.9.0.1\n",
      "dask==0.8.1\n",
      "datashape==0.5.1\n",
      "decorator==4.0.9\n",
      "dill==0.2.4\n",
      "docutils==0.12\n",
      "dynd==0.7.3.dev1\n",
      "entrypoints==0.2.3\n",
      "eofs==1.3.1\n",
      "et-xmlfile==1.0.1\n",
      "fastcache==1.0.2\n",
      "Flask==0.10.1\n",
      "Flask-Cors==2.1.2\n",
      "future==0.17.1\n",
      "gast==0.2.0\n",
      "gevent==1.1.0\n",
      "greenlet==0.4.9\n",
      "grpcio==1.17.1\n",
      "h5py==2.5.0\n",
      "hdbscan==0.8.18\n",
      "HeapDict==1.0.0\n",
      "idna==2.0\n",
      "ipdb==0.11\n",
      "ipykernel==4.10.0\n",
      "ipython==6.5.0\n",
      "ipython-genutils==0.1.0\n",
      "ipywidgets==4.1.1\n",
      "isort==4.3.4\n",
      "itsdangerous==0.24\n",
      "jdcal==1.2\n",
      "jedi==0.13.1\n",
      "Jinja2==2.8\n",
      "jsonschema==2.4.0\n",
      "jupyter==1.0.0\n",
      "jupyter-client==4.2.2\n",
      "jupyter-console==4.1.1\n",
      "jupyter-contrib-core==0.3.3\n",
      "jupyter-contrib-nbextensions==0.5.0\n",
      "jupyter-core==4.1.0\n",
      "jupyter-highlight-selected-word==0.1.1\n",
      "jupyter-latex-envs==1.4.4\n",
      "jupyter-nbextensions-configurator==0.4.0\n",
      "jupyterlab==0.34.9\n",
      "jupyterlab-launcher==0.13.1\n",
      "Keras==2.2.4\n",
      "Keras-Applications==1.0.6\n",
      "Keras-Preprocessing==1.0.5\n",
      "kiwisolver==1.0.1\n",
      "lazy-object-proxy==1.3.1\n",
      "llvmlite==0.9.0\n",
      "locket==0.2.0\n",
      "lxml==3.6.0\n",
      "Markdown==3.0.1\n",
      "MarkupSafe==0.23\n",
      "matplotlib==3.0.0\n",
      "mccabe==0.6.1\n",
      "MDP==3.5\n",
      "mistune==0.7.2\n",
      "mpmath==0.19\n",
      "multipledispatch==0.4.8\n",
      "nbconvert==4.2.0\n",
      "nbformat==4.4.0\n",
      "networkx==1.11\n",
      "nltk==3.2\n",
      "nose==1.3.7\n",
      "notebook==4.4.1\n",
      "numba==0.24.0\n",
      "numexpr==2.5\n",
      "numpy==1.15.2\n",
      "odo==0.4.2\n",
      "openpyxl==2.3.2\n",
      "pandas==0.18.0\n",
      "pandoc==1.0.2\n",
      "parso==0.3.1\n",
      "partd==0.3.2\n",
      "path.py==0.0.0\n",
      "patsy==0.4.0\n",
      "pep8==1.7.0\n",
      "pexpect==4.0.1\n",
      "pickleshare==0.5\n",
      "Pillow==5.4.1\n",
      "plotly==2.5.1\n",
      "ply==3.8\n",
      "prompt-toolkit==1.0.15\n",
      "protobuf==3.4.0\n",
      "psutil==4.1.0\n",
      "ptyprocess==0.5\n",
      "py==1.4.31\n",
      "py4j==0.10.8.1\n",
      "pyasn1==0.1.9\n",
      "pycodestyle==2.4.0\n",
      "pycosat==0.6.3\n",
      "pycparser==2.14\n",
      "pycrypto==2.6.1\n",
      "pycurl==7.43.0.2\n",
      "pyflakes==1.1.0\n",
      "Pygments==2.1.1\n",
      "pylint==2.1.1\n",
      "pyOpenSSL==16.2.0\n",
      "pyparsing==2.0.3\n",
      "pytest==2.8.5\n",
      "python-dateutil==2.5.1\n",
      "pytz==2016.2\n",
      "PyWavelets==1.0.1\n",
      "PyYAML==3.11\n",
      "pyzmq==15.2.0\n",
      "QtAwesome==0.3.2\n",
      "qtconsole==4.4.1\n",
      "QtPy==1.5.0\n",
      "redis==2.10.3\n",
      "requests==2.12.4\n",
      "rope-py3k==0.9.4.post1\n",
      "ruamel-yaml==0.15.35\n",
      "scikit-fuzzy==0.4.0\n",
      "scikit-image==0.12.3\n",
      "scikit-learn==0.20.0\n",
      "scipy==1.1.0\n",
      "seaborn==0.9.0\n",
      "simplegeneric==0.8.1\n",
      "singledispatch==3.4.0.3\n",
      "six==1.10.0\n",
      "sklearn==0.0\n",
      "snowballstemmer==1.2.1\n",
      "sockjs-tornado==1.0.1\n",
      "Sphinx==1.3.5\n",
      "sphinx-rtd-theme==0.1.9\n",
      "spyder==3.0.2\n",
      "SQLAlchemy==1.0.12\n",
      "statsmodels==0.6.1\n",
      "sympy==1.0\n",
      "tables==3.2.2\n",
      "tensorboard==1.12.1\n",
      "termcolor==1.1.0\n",
      "terminado==0.5\n",
      "toolz==0.9.0\n",
      "tornado==4.3\n",
      "traitlets==4.2.1\n",
      "typed-ast==1.1.0\n",
      "unicodecsv==0.14.1\n",
      "wcwidth==0.1.7\n",
      "Werkzeug==0.14.1\n",
      "wrapt==1.10.11\n",
      "xlrd==0.9.4\n",
      "XlsxWriter==0.8.4\n",
      "xlwt==1.0.0\n"
     ]
    }
   ],
   "source": [
    "!pip3 freeze"
   ]
  },
  {
   "cell_type": "code",
   "execution_count": null,
   "metadata": {},
   "outputs": [],
   "source": []
  }
 ],
 "metadata": {
  "kernelspec": {
   "display_name": "Python 3",
   "language": "python",
   "name": "python3"
  },
  "language_info": {
   "codemirror_mode": {
    "name": "ipython",
    "version": 3
   },
   "file_extension": ".py",
   "mimetype": "text/x-python",
   "name": "python",
   "nbconvert_exporter": "python",
   "pygments_lexer": "ipython3",
   "version": "3.5.6"
  }
 },
 "nbformat": 4,
 "nbformat_minor": 2
}
