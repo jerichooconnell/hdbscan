{
 "cells": [
  {
   "cell_type": "code",
   "execution_count": 1,
   "metadata": {
    "collapsed": false
   },
   "outputs": [],
   "source": [
    "%matplotlib inline"
   ]
  },
  {
   "cell_type": "markdown",
   "metadata": {},
   "source": [
    "\n",
    "# Extrema\n",
    "\n",
    "\n",
    "We detect local maxima in a galaxy image. The image is corrupted by noise,\n",
    "generating many local maxima. To keep only those maxima with sufficient\n",
    "local contrast, we use h-maxima.\n",
    "\n"
   ]
  },
  {
   "cell_type": "code",
   "execution_count": 2,
   "metadata": {
    "collapsed": false
   },
   "outputs": [
    {
     "ename": "ImportError",
     "evalue": "cannot import name 'extrema'",
     "output_type": "error",
     "traceback": [
      "\u001b[0;31m---------------------------------------------------------------------------\u001b[0m",
      "\u001b[0;31mImportError\u001b[0m                               Traceback (most recent call last)",
      "\u001b[0;32m<ipython-input-2-7451af750119>\u001b[0m in \u001b[0;36m<module>\u001b[0;34m()\u001b[0m\n\u001b[1;32m      6\u001b[0m \u001b[0;32mfrom\u001b[0m \u001b[0mskimage\u001b[0m \u001b[0;32mimport\u001b[0m \u001b[0mdata\u001b[0m\u001b[0;34m\u001b[0m\u001b[0m\n\u001b[1;32m      7\u001b[0m \u001b[0;32mfrom\u001b[0m \u001b[0mskimage\u001b[0m \u001b[0;32mimport\u001b[0m \u001b[0mcolor\u001b[0m\u001b[0;34m\u001b[0m\u001b[0m\n\u001b[0;32m----> 8\u001b[0;31m \u001b[0;32mfrom\u001b[0m \u001b[0mskimage\u001b[0m\u001b[0;34m.\u001b[0m\u001b[0mmorphology\u001b[0m \u001b[0;32mimport\u001b[0m \u001b[0mextrema\u001b[0m\u001b[0;34m\u001b[0m\u001b[0m\n\u001b[0m\u001b[1;32m      9\u001b[0m \u001b[0;32mfrom\u001b[0m \u001b[0mskimage\u001b[0m \u001b[0;32mimport\u001b[0m \u001b[0mexposure\u001b[0m\u001b[0;34m\u001b[0m\u001b[0m\n\u001b[1;32m     10\u001b[0m \u001b[0;34m\u001b[0m\u001b[0m\n",
      "\u001b[0;31mImportError\u001b[0m: cannot import name 'extrema'"
     ]
    }
   ],
   "source": [
    "import numpy as np\n",
    "\n",
    "import matplotlib.pyplot as plt\n",
    "\n",
    "from skimage.measure import label\n",
    "from skimage import data\n",
    "from skimage import color\n",
    "from skimage.morphology import extrema\n",
    "from skimage import exposure\n",
    "\n",
    "color_image = data.hubble_deep_field()\n",
    "\n",
    "# for illustration purposes, we work on a crop of the image.\n",
    "x_0 = 70\n",
    "y_0 = 354\n",
    "width = 100\n",
    "height = 100\n",
    "\n",
    "img = color.rgb2gray(color_image)[y_0:(y_0 + height), x_0:(x_0 + width)]\n",
    "\n",
    "# the rescaling is done only for visualization purpose.\n",
    "# the algorithms would work identically in an unscaled version of the\n",
    "# image. However, the parameter h needs to be adapted to the scale.\n",
    "img = exposure.rescale_intensity(img)"
   ]
  },
  {
   "cell_type": "code",
   "execution_count": 4,
   "metadata": {},
   "outputs": [
    {
     "name": "stdout",
     "output_type": "stream",
     "text": [
      "Solving environment: done\n",
      "\n",
      "\n",
      "==> WARNING: A newer version of conda exists. <==\n",
      "  current version: 4.5.11\n",
      "  latest version: 4.6.4\n",
      "\n",
      "Please update conda by running\n",
      "\n",
      "    $ conda update -n base -c defaults conda\n",
      "\n",
      "\n",
      "\n",
      "## Package Plan ##\n",
      "\n",
      "  environment location: /home/jerichooconnell/anaconda3\n",
      "\n",
      "  added / updated specs: \n",
      "    - scikit-image\n",
      "\n",
      "\n",
      "The following packages will be downloaded:\n",
      "\n",
      "    package                    |            build\n",
      "    ---------------------------|-----------------\n",
      "    pillow-5.2.0               |   py35heded4f4_0         589 KB\n",
      "    dask-core-1.1.1            |             py_0         523 KB  conda-forge\n",
      "    olefile-0.46               |             py_0          31 KB  conda-forge\n",
      "    scikit-image-0.14.0        |   py35hfc679d8_1        35.3 MB  conda-forge\n",
      "    libtiff-4.0.9              |       he6b73bb_1         521 KB  conda-forge\n",
      "    imageio-2.3.0              |             py_1         3.1 MB  conda-forge\n",
      "    cloudpickle-0.7.0          |             py_0          17 KB  conda-forge\n",
      "    pywavelets-1.0.1           |   py35h7eb728f_0         6.1 MB  conda-forge\n",
      "    ------------------------------------------------------------\n",
      "                                           Total:        46.2 MB\n",
      "\n",
      "The following NEW packages will be INSTALLED:\n",
      "\n",
      "    dask-core:       1.1.1-py_0            conda-forge\n",
      "    imageio:         2.3.0-py_1            conda-forge\n",
      "    olefile:         0.46-py_0             conda-forge\n",
      "    pywavelets:      1.0.1-py35h7eb728f_0  conda-forge\n",
      "\n",
      "The following packages will be UPDATED:\n",
      "\n",
      "    certifi:         2018.8.24-py35_1                  --> 2018.8.24-py35_1001                   conda-forge\n",
      "    cloudpickle:     0.1.1-py35_0                      --> 0.7.0-py_0                            conda-forge\n",
      "    libtiff:         4.0.6-1                           --> 4.0.9-he6b73bb_1                      conda-forge\n",
      "    numpy:           1.15.2-py35h99e49ec_0             --> 1.15.2-py35_blas_openblashd3ea46f_0   conda-forge [blas_openblas]\n",
      "    openssl:         1.0.2p-h14c3975_0                 --> 1.0.2p-h14c3975_1002                  conda-forge\n",
      "    pillow:          3.1.1-py35_0                      --> 5.2.0-py35heded4f4_0                             \n",
      "    scikit-image:    0.12.3-np110py35_0                --> 0.14.0-py35hfc679d8_1                 conda-forge\n",
      "    scikit-learn:    0.20.0-py35h22eb022_1             --> 0.20.0-py35_blas_openblasha84fab4_201 conda-forge [blas_openblas]\n",
      "\n",
      "The following packages will be DOWNGRADED:\n",
      "\n",
      "    ca-certificates: 2019.1.23-0                       --> 2018.11.29-ha4d7672_0                 conda-forge\n",
      "\n",
      "Proceed ([y]/n)? ^C\n",
      "CondaSystemExit: \n",
      "Operation aborted.  Exiting. \n",
      "\n",
      "\n"
     ]
    }
   ],
   "source": [
    "!conda install -c conda-forge scikit-image"
   ]
  },
  {
   "cell_type": "markdown",
   "metadata": {},
   "source": [
    "MAXIMA DETECTION\n",
    "\n"
   ]
  },
  {
   "cell_type": "code",
   "execution_count": null,
   "metadata": {
    "collapsed": false
   },
   "outputs": [],
   "source": [
    "# Maxima in the galaxy image are detected by mathematical morphology.\n",
    "# There is no a priori constraint on the density.\n",
    "\n",
    "# We find all local maxima\n",
    "local_maxima = extrema.local_maxima(img)\n",
    "label_maxima = label(local_maxima)\n",
    "overlay = color.label2rgb(label_maxima, img, alpha=0.7, bg_label=0,\n",
    "                          bg_color=None, colors=[(1, 0, 0)])\n",
    "\n",
    "# We observed in the previous image, that there are many local maxima\n",
    "# that are caused by the noise in the image.\n",
    "# For this, we find all local maxima with a height of h.\n",
    "# This height is the gray level value by which we need to descent\n",
    "# in order to reach a higher maximum and it can be seen as a local\n",
    "# contrast measurement.\n",
    "# The value of h scales with the dynamic range of the image, i.e.\n",
    "# if we multiply the image with a constant, we need to multiply\n",
    "# the value of h with the same constant in order to achieve the same result.\n",
    "h = 0.05\n",
    "h_maxima = extrema.h_maxima(img, h)\n",
    "label_h_maxima = label(h_maxima)\n",
    "overlay_h = color.label2rgb(label_h_maxima, img, alpha=0.7, bg_label=0,\n",
    "                            bg_color=None, colors=[(1, 0, 0)])"
   ]
  },
  {
   "cell_type": "markdown",
   "metadata": {},
   "source": [
    "GRAPHICAL OUTPUT\n",
    "\n"
   ]
  },
  {
   "cell_type": "code",
   "execution_count": null,
   "metadata": {
    "collapsed": false
   },
   "outputs": [],
   "source": [
    "# a new figure with 3 subplots\n",
    "fig, ax = plt.subplots(1, 3, figsize=(15, 5))\n",
    "\n",
    "ax[0].imshow(img, cmap='gray', interpolation='none')\n",
    "ax[0].set_title('Original image')\n",
    "ax[0].axis('off')\n",
    "\n",
    "ax[1].imshow(overlay, interpolation='none')\n",
    "ax[1].set_title('Local Maxima')\n",
    "ax[1].axis('off')\n",
    "\n",
    "ax[2].imshow(overlay_h, interpolation='none')\n",
    "ax[2].set_title('h maxima for h = %.2f' % h)\n",
    "ax[2].axis('off')\n",
    "plt.show()"
   ]
  }
 ],
 "metadata": {
  "kernelspec": {
   "display_name": "Python 3",
   "language": "python",
   "name": "python3"
  },
  "language_info": {
   "codemirror_mode": {
    "name": "ipython",
    "version": 3
   },
   "file_extension": ".py",
   "mimetype": "text/x-python",
   "name": "python",
   "nbconvert_exporter": "python",
   "pygments_lexer": "ipython3",
   "version": "3.5.6"
  }
 },
 "nbformat": 4,
 "nbformat_minor": 2
}
