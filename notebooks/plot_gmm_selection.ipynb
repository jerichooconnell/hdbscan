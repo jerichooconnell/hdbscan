{
 "cells": [
  {
   "cell_type": "code",
   "execution_count": 2,
   "metadata": {},
   "outputs": [],
   "source": [
    "import numpy as np"
   ]
  },
  {
   "cell_type": "code",
   "execution_count": 4,
   "metadata": {},
   "outputs": [
    {
     "ename": "AttributeError",
     "evalue": "module 'numpy' has no attribute '__version__'",
     "output_type": "error",
     "traceback": [
      "\u001b[0;31m---------------------------------------------------------------------------\u001b[0m",
      "\u001b[0;31mAttributeError\u001b[0m                            Traceback (most recent call last)",
      "\u001b[0;32m<ipython-input-4-8c601e3b9b2a>\u001b[0m in \u001b[0;36m<module>\u001b[0;34m()\u001b[0m\n\u001b[0;32m----> 1\u001b[0;31m \u001b[0mnp\u001b[0m\u001b[0;34m.\u001b[0m\u001b[0m__version__\u001b[0m\u001b[0;34m\u001b[0m\u001b[0m\n\u001b[0m",
      "\u001b[0;31mAttributeError\u001b[0m: module 'numpy' has no attribute '__version__'"
     ]
    }
   ],
   "source": [
    "np.__version__"
   ]
  },
  {
   "cell_type": "code",
   "execution_count": 1,
   "metadata": {
    "collapsed": false
   },
   "outputs": [
    {
     "ename": "AttributeError",
     "evalue": "module 'numpy' has no attribute '__version__'",
     "output_type": "error",
     "traceback": [
      "\u001b[0;31m---------------------------------------------------------------------------\u001b[0m",
      "\u001b[0;31mAttributeError\u001b[0m                            Traceback (most recent call last)",
      "\u001b[0;32m<ipython-input-1-9e3324102725>\u001b[0m in \u001b[0;36m<module>\u001b[0;34m()\u001b[0m\n\u001b[0;32m----> 1\u001b[0;31m \u001b[0mget_ipython\u001b[0m\u001b[0;34m(\u001b[0m\u001b[0;34m)\u001b[0m\u001b[0;34m.\u001b[0m\u001b[0mrun_line_magic\u001b[0m\u001b[0;34m(\u001b[0m\u001b[0;34m'matplotlib'\u001b[0m\u001b[0;34m,\u001b[0m \u001b[0;34m'inline'\u001b[0m\u001b[0;34m)\u001b[0m\u001b[0;34m\u001b[0m\u001b[0m\n\u001b[0m",
      "\u001b[0;32m~/anaconda3/lib/python3.5/site-packages/IPython/core/interactiveshell.py\u001b[0m in \u001b[0;36mrun_line_magic\u001b[0;34m(self, magic_name, line, _stack_depth)\u001b[0m\n\u001b[1;32m   2129\u001b[0m                 \u001b[0mkwargs\u001b[0m\u001b[0;34m[\u001b[0m\u001b[0;34m'local_ns'\u001b[0m\u001b[0;34m]\u001b[0m \u001b[0;34m=\u001b[0m \u001b[0msys\u001b[0m\u001b[0;34m.\u001b[0m\u001b[0m_getframe\u001b[0m\u001b[0;34m(\u001b[0m\u001b[0mstack_depth\u001b[0m\u001b[0;34m)\u001b[0m\u001b[0;34m.\u001b[0m\u001b[0mf_locals\u001b[0m\u001b[0;34m\u001b[0m\u001b[0m\n\u001b[1;32m   2130\u001b[0m             \u001b[0;32mwith\u001b[0m \u001b[0mself\u001b[0m\u001b[0;34m.\u001b[0m\u001b[0mbuiltin_trap\u001b[0m\u001b[0;34m:\u001b[0m\u001b[0;34m\u001b[0m\u001b[0m\n\u001b[0;32m-> 2131\u001b[0;31m                 \u001b[0mresult\u001b[0m \u001b[0;34m=\u001b[0m \u001b[0mfn\u001b[0m\u001b[0;34m(\u001b[0m\u001b[0;34m*\u001b[0m\u001b[0margs\u001b[0m\u001b[0;34m,\u001b[0m\u001b[0;34m**\u001b[0m\u001b[0mkwargs\u001b[0m\u001b[0;34m)\u001b[0m\u001b[0;34m\u001b[0m\u001b[0m\n\u001b[0m\u001b[1;32m   2132\u001b[0m             \u001b[0;32mreturn\u001b[0m \u001b[0mresult\u001b[0m\u001b[0;34m\u001b[0m\u001b[0m\n\u001b[1;32m   2133\u001b[0m \u001b[0;34m\u001b[0m\u001b[0m\n",
      "\u001b[0;32m<decorator-gen-107>\u001b[0m in \u001b[0;36mmatplotlib\u001b[0;34m(self, line)\u001b[0m\n",
      "\u001b[0;32m~/anaconda3/lib/python3.5/site-packages/IPython/core/magic.py\u001b[0m in \u001b[0;36m<lambda>\u001b[0;34m(f, *a, **k)\u001b[0m\n\u001b[1;32m    185\u001b[0m     \u001b[0;31m# but it's overkill for just that one bit of state.\u001b[0m\u001b[0;34m\u001b[0m\u001b[0;34m\u001b[0m\u001b[0m\n\u001b[1;32m    186\u001b[0m     \u001b[0;32mdef\u001b[0m \u001b[0mmagic_deco\u001b[0m\u001b[0;34m(\u001b[0m\u001b[0marg\u001b[0m\u001b[0;34m)\u001b[0m\u001b[0;34m:\u001b[0m\u001b[0;34m\u001b[0m\u001b[0m\n\u001b[0;32m--> 187\u001b[0;31m         \u001b[0mcall\u001b[0m \u001b[0;34m=\u001b[0m \u001b[0;32mlambda\u001b[0m \u001b[0mf\u001b[0m\u001b[0;34m,\u001b[0m \u001b[0;34m*\u001b[0m\u001b[0ma\u001b[0m\u001b[0;34m,\u001b[0m \u001b[0;34m**\u001b[0m\u001b[0mk\u001b[0m\u001b[0;34m:\u001b[0m \u001b[0mf\u001b[0m\u001b[0;34m(\u001b[0m\u001b[0;34m*\u001b[0m\u001b[0ma\u001b[0m\u001b[0;34m,\u001b[0m \u001b[0;34m**\u001b[0m\u001b[0mk\u001b[0m\u001b[0;34m)\u001b[0m\u001b[0;34m\u001b[0m\u001b[0m\n\u001b[0m\u001b[1;32m    188\u001b[0m \u001b[0;34m\u001b[0m\u001b[0m\n\u001b[1;32m    189\u001b[0m         \u001b[0;32mif\u001b[0m \u001b[0mcallable\u001b[0m\u001b[0;34m(\u001b[0m\u001b[0marg\u001b[0m\u001b[0;34m)\u001b[0m\u001b[0;34m:\u001b[0m\u001b[0;34m\u001b[0m\u001b[0m\n",
      "\u001b[0;32m~/anaconda3/lib/python3.5/site-packages/IPython/core/magics/pylab.py\u001b[0m in \u001b[0;36mmatplotlib\u001b[0;34m(self, line)\u001b[0m\n\u001b[1;32m     97\u001b[0m             \u001b[0mprint\u001b[0m\u001b[0;34m(\u001b[0m\u001b[0;34m\"Available matplotlib backends: %s\"\u001b[0m \u001b[0;34m%\u001b[0m \u001b[0mbackends_list\u001b[0m\u001b[0;34m)\u001b[0m\u001b[0;34m\u001b[0m\u001b[0m\n\u001b[1;32m     98\u001b[0m         \u001b[0;32melse\u001b[0m\u001b[0;34m:\u001b[0m\u001b[0;34m\u001b[0m\u001b[0m\n\u001b[0;32m---> 99\u001b[0;31m             \u001b[0mgui\u001b[0m\u001b[0;34m,\u001b[0m \u001b[0mbackend\u001b[0m \u001b[0;34m=\u001b[0m \u001b[0mself\u001b[0m\u001b[0;34m.\u001b[0m\u001b[0mshell\u001b[0m\u001b[0;34m.\u001b[0m\u001b[0menable_matplotlib\u001b[0m\u001b[0;34m(\u001b[0m\u001b[0margs\u001b[0m\u001b[0;34m.\u001b[0m\u001b[0mgui\u001b[0m\u001b[0;34m)\u001b[0m\u001b[0;34m\u001b[0m\u001b[0m\n\u001b[0m\u001b[1;32m    100\u001b[0m             \u001b[0mself\u001b[0m\u001b[0;34m.\u001b[0m\u001b[0m_show_matplotlib_backend\u001b[0m\u001b[0;34m(\u001b[0m\u001b[0margs\u001b[0m\u001b[0;34m.\u001b[0m\u001b[0mgui\u001b[0m\u001b[0;34m,\u001b[0m \u001b[0mbackend\u001b[0m\u001b[0;34m)\u001b[0m\u001b[0;34m\u001b[0m\u001b[0m\n\u001b[1;32m    101\u001b[0m \u001b[0;34m\u001b[0m\u001b[0m\n",
      "\u001b[0;32m~/anaconda3/lib/python3.5/site-packages/IPython/core/interactiveshell.py\u001b[0m in \u001b[0;36menable_matplotlib\u001b[0;34m(self, gui)\u001b[0m\n\u001b[1;32m   3035\u001b[0m         \"\"\"\n\u001b[1;32m   3036\u001b[0m         \u001b[0;32mfrom\u001b[0m \u001b[0mIPython\u001b[0m\u001b[0;34m.\u001b[0m\u001b[0mcore\u001b[0m \u001b[0;32mimport\u001b[0m \u001b[0mpylabtools\u001b[0m \u001b[0;32mas\u001b[0m \u001b[0mpt\u001b[0m\u001b[0;34m\u001b[0m\u001b[0m\n\u001b[0;32m-> 3037\u001b[0;31m         \u001b[0mgui\u001b[0m\u001b[0;34m,\u001b[0m \u001b[0mbackend\u001b[0m \u001b[0;34m=\u001b[0m \u001b[0mpt\u001b[0m\u001b[0;34m.\u001b[0m\u001b[0mfind_gui_and_backend\u001b[0m\u001b[0;34m(\u001b[0m\u001b[0mgui\u001b[0m\u001b[0;34m,\u001b[0m \u001b[0mself\u001b[0m\u001b[0;34m.\u001b[0m\u001b[0mpylab_gui_select\u001b[0m\u001b[0;34m)\u001b[0m\u001b[0;34m\u001b[0m\u001b[0m\n\u001b[0m\u001b[1;32m   3038\u001b[0m \u001b[0;34m\u001b[0m\u001b[0m\n\u001b[1;32m   3039\u001b[0m         \u001b[0;32mif\u001b[0m \u001b[0mgui\u001b[0m \u001b[0;34m!=\u001b[0m \u001b[0;34m'inline'\u001b[0m\u001b[0;34m:\u001b[0m\u001b[0;34m\u001b[0m\u001b[0m\n",
      "\u001b[0;32m~/anaconda3/lib/python3.5/site-packages/IPython/core/pylabtools.py\u001b[0m in \u001b[0;36mfind_gui_and_backend\u001b[0;34m(gui, gui_select)\u001b[0m\n\u001b[1;32m    271\u001b[0m     \"\"\"\n\u001b[1;32m    272\u001b[0m \u001b[0;34m\u001b[0m\u001b[0m\n\u001b[0;32m--> 273\u001b[0;31m     \u001b[0;32mimport\u001b[0m \u001b[0mmatplotlib\u001b[0m\u001b[0;34m\u001b[0m\u001b[0m\n\u001b[0m\u001b[1;32m    274\u001b[0m \u001b[0;34m\u001b[0m\u001b[0m\n\u001b[1;32m    275\u001b[0m     \u001b[0;32mif\u001b[0m \u001b[0mgui\u001b[0m \u001b[0;32mand\u001b[0m \u001b[0mgui\u001b[0m \u001b[0;34m!=\u001b[0m \u001b[0;34m'auto'\u001b[0m\u001b[0;34m:\u001b[0m\u001b[0;34m\u001b[0m\u001b[0m\n",
      "\u001b[0;32m~/anaconda3/lib/python3.5/site-packages/matplotlib/__init__.py\u001b[0m in \u001b[0;36m<module>\u001b[0;34m()\u001b[0m\n\u001b[1;32m    208\u001b[0m \u001b[0;34m\u001b[0m\u001b[0m\n\u001b[1;32m    209\u001b[0m \u001b[0;34m\u001b[0m\u001b[0m\n\u001b[0;32m--> 210\u001b[0;31m \u001b[0;32mif\u001b[0m \u001b[0;32mnot\u001b[0m \u001b[0mcompare_versions\u001b[0m\u001b[0;34m(\u001b[0m\u001b[0mnumpy\u001b[0m\u001b[0;34m.\u001b[0m\u001b[0m__version__\u001b[0m\u001b[0;34m,\u001b[0m \u001b[0m__version__numpy__\u001b[0m\u001b[0;34m)\u001b[0m\u001b[0;34m:\u001b[0m\u001b[0;34m\u001b[0m\u001b[0m\n\u001b[0m\u001b[1;32m    211\u001b[0m     raise ImportError(\n\u001b[1;32m    212\u001b[0m         \"Matplotlib requires numpy>=%s; you have %s\" % (\n",
      "\u001b[0;31mAttributeError\u001b[0m: module 'numpy' has no attribute '__version__'"
     ]
    }
   ],
   "source": [
    "%matplotlib inline"
   ]
  },
  {
   "cell_type": "markdown",
   "metadata": {},
   "source": [
    "\n",
    "# Gaussian Mixture Model Selection\n",
    "\n",
    "\n",
    "This example shows that model selection can be performed with\n",
    "Gaussian Mixture Models using information-theoretic criteria (BIC).\n",
    "Model selection concerns both the covariance type\n",
    "and the number of components in the model.\n",
    "In that case, AIC also provides the right result (not shown to save time),\n",
    "but BIC is better suited if the problem is to identify the right model.\n",
    "Unlike Bayesian procedures, such inferences are prior-free.\n",
    "\n",
    "In that case, the model with 2 components and full covariance\n",
    "(which corresponds to the true generative model) is selected.\n",
    "\n"
   ]
  },
  {
   "cell_type": "code",
   "execution_count": 11,
   "metadata": {
    "collapsed": false
   },
   "outputs": [
    {
     "name": "stdout",
     "output_type": "stream",
     "text": [
      "Automatically created module for IPython interactive environment\n"
     ]
    },
    {
     "data": {
      "image/png": "[encoded data removed]",
      "text/plain": [
       "<Figure size 576x432 with 2 Axes>"
      ]
     },
     "metadata": {
      "needs_background": "light"
     },
     "output_type": "display_data"
    }
   ],
   "source": [
    "import numpy as np\n",
    "import itertools\n",
    "\n",
    "from scipy import linalg\n",
    "from scipy.io import loadmat\n",
    "import matplotlib.pyplot as plt\n",
    "import matplotlib as mpl\n",
    "\n",
    "from sklearn import mixture\n",
    "\n",
    "print(__doc__)\n",
    "\n",
    "dataset = 'pp'\n",
    "\n",
    "# Number of samples per component\n",
    "n_samples = 500\n",
    "\n",
    "# Generate random sample, two components\n",
    "np.random.seed(0)\n",
    "X = loadmat('2'+dataset)['Z']\n",
    "\n",
    "\n",
    "lowest_bic = np.infty\n",
    "bic = []\n",
    "n_components_range = range(1, 10)\n",
    "cv_types = ['spherical', 'tied', 'full']\n",
    "for cv_type in cv_types:\n",
    "    for n_components in n_components_range:\n",
    "        # Fit a Gaussian mixture with EM\n",
    "        gmm = mixture.GaussianMixture(n_components=n_components,\n",
    "                                      covariance_type=cv_type)\n",
    "        gmm.fit(X)\n",
    "        bic.append(gmm.bic(X))\n",
    "        if bic[-1] < lowest_bic:\n",
    "            lowest_bic = bic[-1]\n",
    "            best_gmm = gmm\n",
    "\n",
    "bic = np.array(bic)\n",
    "color_iter = itertools.cycle(['navy', 'turquoise', 'cornflowerblue',\n",
    "                              'darkorange'])\n",
    "clf = best_gmm\n",
    "bars = []\n",
    "\n",
    "# Plot the BIC scores\n",
    "plt.figure(figsize=(8, 6))\n",
    "spl = plt.subplot(2, 1, 1)\n",
    "for i, (cv_type, color) in enumerate(zip(cv_types, color_iter)):\n",
    "    xpos = np.array(n_components_range) + .2 * (i - 2)\n",
    "    bars.append(plt.bar(xpos, bic[i * len(n_components_range):\n",
    "                                  (i + 1) * len(n_components_range)],\n",
    "                        width=.2, color=color))\n",
    "plt.xticks(n_components_range)\n",
    "plt.ylim([bic.min() * 1.01 - .01 * bic.max(), bic.max()])\n",
    "plt.title('BIC score per model')\n",
    "xpos = np.mod(bic.argmin(), len(n_components_range)) + .65 +\\\n",
    "    .2 * np.floor(bic.argmin() / len(n_components_range))\n",
    "plt.text(xpos, bic.min() * 0.97 + .03 * bic.max(), '*', fontsize=14)\n",
    "spl.set_xlabel('Number of components')\n",
    "spl.legend([b[0] for b in bars], cv_types)\n",
    "\n",
    "# Plot the winner\n",
    "splot = plt.subplot(2, 1, 2)\n",
    "Y_ = clf.predict(X)\n",
    "for i, (mean, cov, color) in enumerate(zip(clf.means_, clf.covariances_,\n",
    "                                           color_iter)):\n",
    "    v, w = linalg.eigh(cov)\n",
    "    if not np.any(Y_ == i):\n",
    "        continue\n",
    "    plt.scatter(X[Y_ == i, 0], X[Y_ == i, 1], .8, color=color)\n",
    "\n",
    "    # Plot an ellipse to show the Gaussian component\n",
    "    angle = np.arctan2(w[0][1], w[0][0])\n",
    "    angle = 180. * angle / np.pi  # convert to degrees\n",
    "    v = 2. * np.sqrt(2.) * np.sqrt(v)\n",
    "    ell = mpl.patches.Ellipse(mean, v[0], v[1], 180. + angle, color=color)\n",
    "    ell.set_clip_box(splot.bbox)\n",
    "    ell.set_alpha(.5)\n",
    "    splot.add_artist(ell)\n",
    "\n",
    "plt.xticks(())\n",
    "plt.yticks(())\n",
    "plt.title('Selected GMM: full model, 2 components')\n",
    "plt.subplots_adjust(hspace=.35, bottom=.02)\n",
    "plt.show()"
   ]
  },
  {
   "cell_type": "code",
   "execution_count": 5,
   "metadata": {},
   "outputs": [
    {
     "data": {
      "text/plain": [
       "array([4.72070197e-05, 1.08084519e-05])"
      ]
     },
     "execution_count": 5,
     "metadata": {},
     "output_type": "execute_result"
    }
   ],
   "source": [
    "cov"
   ]
  },
  {
   "cell_type": "code",
   "execution_count": 6,
   "metadata": {},
   "outputs": [
    {
     "data": {
      "text/plain": [
       "GaussianMixture(covariance_type='diag', init_params='kmeans', max_iter=100,\n",
       "        means_init=None, n_components=4, n_init=1, precisions_init=None,\n",
       "        random_state=None, reg_covar=1e-06, tol=0.001, verbose=0,\n",
       "        verbose_interval=10, warm_start=False, weights_init=None)"
      ]
     },
     "execution_count": 6,
     "metadata": {},
     "output_type": "execute_result"
    }
   ],
   "source": [
    "clf"
   ]
  },
  {
   "cell_type": "code",
   "execution_count": 7,
   "metadata": {},
   "outputs": [
    {
     "data": {
      "text/plain": [
       "array([[4.72070197e-05, 1.08084519e-05],\n",
       "       [2.78784575e-05, 1.33988673e-05],\n",
       "       [1.31601776e-04, 1.16281737e-04],\n",
       "       [6.77630201e-05, 1.14649408e-05]])"
      ]
     },
     "execution_count": 7,
     "metadata": {},
     "output_type": "execute_result"
    }
   ],
   "source": [
    "clf.covariances_"
   ]
  },
  {
   "cell_type": "code",
   "execution_count": 53,
   "metadata": {},
   "outputs": [
    {
     "data": {
      "text/plain": [
       "(1360, 5)"
      ]
     },
     "execution_count": 53,
     "metadata": {},
     "output_type": "execute_result"
    }
   ],
   "source": [
    "X1.shape"
   ]
  },
  {
   "cell_type": "code",
   "execution_count": 59,
   "metadata": {},
   "outputs": [
    {
     "data": {
      "text/plain": [
       "array([0.04806756, 0.07708995, 0.109413  , 0.03048485, 0.02916477,\n",
       "       0.06170672, 0.01908362, 0.0326119 , 0.04707198, 0.07953554])"
      ]
     },
     "execution_count": 59,
     "metadata": {},
     "output_type": "execute_result"
    }
   ],
   "source": [
    "np.mean(X1,0)"
   ]
  },
  {
   "cell_type": "code",
   "execution_count": 60,
   "metadata": {},
   "outputs": [
    {
     "data": {
      "text/plain": [
       "array([0.00444034, 0.00495756, 0.00579091, 0.00855756, 0.00313403,\n",
       "       0.00444849, 0.00641385, 0.00287838, 0.00641616, 0.00537903])"
      ]
     },
     "execution_count": 60,
     "metadata": {},
     "output_type": "execute_result"
    }
   ],
   "source": [
    "np.std(X1,0)"
   ]
  },
  {
   "cell_type": "code",
   "execution_count": 62,
   "metadata": {},
   "outputs": [
    {
     "data": {
      "text/plain": [
       "array([11.12913408, 15.85386286, 19.53213335,  3.57681024,  9.63374466,\n",
       "       13.87140155,  2.97537806, 11.32993276,  7.33647112, 14.78622474])"
      ]
     },
     "execution_count": 62,
     "metadata": {},
     "output_type": "execute_result"
    }
   ],
   "source": [
    "np.mean(X1,0)/np.std(X1,0)"
   ]
  },
  {
   "cell_type": "code",
   "execution_count": 66,
   "metadata": {},
   "outputs": [],
   "source": [
    "ind = np.argsort(np.std(X1,0))"
   ]
  },
  {
   "cell_type": "code",
   "execution_count": 67,
   "metadata": {},
   "outputs": [
    {
     "data": {
      "text/plain": [
       "array([7, 4, 0, 5, 1, 9, 2, 6, 8, 3])"
      ]
     },
     "execution_count": 67,
     "metadata": {},
     "output_type": "execute_result"
    }
   ],
   "source": [
    "ind"
   ]
  },
  {
   "cell_type": "code",
   "execution_count": 97,
   "metadata": {},
   "outputs": [
    {
     "name": "stderr",
     "output_type": "stream",
     "text": [
      "MovieWriter ffmpeg unavailable. Trying to use html instead.\n"
     ]
    },
    {
     "data": {
      "image/png": "[encoded data removed]",
      "text/plain": [
       "<Figure size 432x288 with 1 Axes>"
      ]
     },
     "metadata": {
      "needs_background": "light"
     },
     "output_type": "display_data"
    }
   ],
   "source": [
    "import numpy as np\n",
    "import matplotlib.pyplot as plt\n",
    "import matplotlib.animation as animation\n",
    "\n",
    "fig = plt.figure()\n",
    "\n",
    "\n",
    "def f(x, y):\n",
    "    return np.sin(x) + np.cos(y)\n",
    "\n",
    "x = np.linspace(0, 2 * np.pi, 120)\n",
    "y = np.linspace(0, 2 * np.pi, 100).reshape(-1, 1)\n",
    "# ims is a list of lists, each row is a list of artists to draw in the\n",
    "# current frame; here we are just animating one artist, the image, in\n",
    "# each frame\n",
    "ims = []\n",
    "for i in range(60):\n",
    "    x += np.pi / 15.\n",
    "    y += np.pi / 20.\n",
    "    im = plt.imshow(f(x, y), animated=True)\n",
    "    ims.append([im])\n",
    "\n",
    "ani = animation.ArtistAnimation(fig, ims, interval=50, blit=True,\n",
    "                                repeat_delay=1000)\n",
    "\n",
    "ani.save('dynamic_images.html')\n",
    "\n",
    "plt.show()"
   ]
  },
  {
   "cell_type": "code",
   "execution_count": 98,
   "metadata": {},
   "outputs": [
    {
     "data": {
      "image/png": "[encoded data removed]",
      "text/plain": [
       "<Figure size 432x288 with 1 Axes>"
      ]
     },
     "metadata": {
      "needs_background": "light"
     },
     "output_type": "display_data"
    }
   ],
   "source": [
    "import numpy as np\n",
    "import matplotlib.pyplot as plt\n",
    "from matplotlib.animation import FuncAnimation\n",
    "\n",
    "fig, ax = plt.subplots()\n",
    "xdata, ydata = [], []\n",
    "ln, = plt.plot([], [], 'ro', animated=True)\n",
    "\n",
    "def init():\n",
    "    ax.set_xlim(0, 2*np.pi)\n",
    "    ax.set_ylim(-1, 1)\n",
    "    return ln,\n",
    "\n",
    "def update(frame):\n",
    "    xdata.append(frame)\n",
    "    ydata.append(np.sin(frame))\n",
    "    ln.set_data(xdata, ydata)\n",
    "    return ln,\n",
    "\n",
    "ani = FuncAnimation(fig, update, frames=np.linspace(0, 2*np.pi, 128),\n",
    "                    init_func=init, blit=True)\n",
    "plt.show()"
   ]
  },
  {
   "cell_type": "code",
   "execution_count": 110,
   "metadata": {},
   "outputs": [
    {
     "data": {
      "text/plain": [
       "[<matplotlib.collections.PathCollection at 0x7f0acf3f50b8>,\n",
       " <matplotlib.collections.PathCollection at 0x7f0acf3f5128>,\n",
       " <matplotlib.collections.PathCollection at 0x7f0aceb04eb8>,\n",
       " <matplotlib.collections.PathCollection at 0x7f0ace97bc88>,\n",
       " <matplotlib.collections.PathCollection at 0x7f0ace949630>,\n",
       " <matplotlib.collections.PathCollection at 0x7f0ad04b8080>,\n",
       " <matplotlib.collections.PathCollection at 0x7f0acf13c1d0>,\n",
       " <matplotlib.collections.PathCollection at 0x7f0aced54cf8>,\n",
       " <matplotlib.collections.PathCollection at 0x7f0ace8eeba8>,\n",
       " <matplotlib.collections.PathCollection at 0x7f0acf356b00>,\n",
       " <matplotlib.collections.PathCollection at 0x7f0acedcd2b0>,\n",
       " <matplotlib.collections.PathCollection at 0x7f0acf011ac8>]"
      ]
     },
     "execution_count": 110,
     "metadata": {},
     "output_type": "execute_result"
    }
   ],
   "source": [
    "ims"
   ]
  },
  {
   "cell_type": "code",
   "execution_count": 114,
   "metadata": {},
   "outputs": [
    {
     "data": {
      "image/png": "[encoded data removed]",
      "text/plain": [
       "<Figure size 432x288 with 1 Axes>"
      ]
     },
     "metadata": {
      "needs_background": "light"
     },
     "output_type": "display_data"
    }
   ],
   "source": [
    "import matplotlib.pyplot as plt\n",
    "import matplotlib.animation as animation\n",
    "import numpy as np\n",
    "\n",
    "class AnimatedScatter(object):\n",
    "    \"\"\"An animated scatter plot using matplotlib.animations.FuncAnimation.\"\"\"\n",
    "    def __init__(self, numpoints=50):\n",
    "        self.numpoints = numpoints\n",
    "        self.stream = self.data_stream()\n",
    "\n",
    "        # Setup the figure and axes...\n",
    "        self.fig, self.ax = plt.subplots()\n",
    "        # Then setup FuncAnimation.\n",
    "        self.ani = animation.FuncAnimation(self.fig, self.update, interval=5, \n",
    "                                           init_func=self.setup_plot, blit=True)\n",
    "\n",
    "    def setup_plot(self):\n",
    "        \"\"\"Initial drawing of the scatter plot.\"\"\"\n",
    "        x, y, s, c = next(self.stream)\n",
    "        self.scat = self.ax.scatter(x, y, c=c, s=s, animated=True)\n",
    "        self.ax.axis([-10, 10, -10, 10])\n",
    "\n",
    "        # For FuncAnimation's sake, we need to return the artist we'll be using\n",
    "        # Note that it expects a sequence of artists, thus the trailing comma.\n",
    "        return self.scat,\n",
    "\n",
    "    def data_stream(self):\n",
    "        \"\"\"Generate a random walk (brownian motion). Data is scaled to produce\n",
    "        a soft \"flickering\" effect.\"\"\"\n",
    "        data = np.random.random((4, self.numpoints))\n",
    "        xy = data[:2, :]\n",
    "        s, c = data[2:, :]\n",
    "        xy -= 0.5\n",
    "        xy *= 10\n",
    "        while True:\n",
    "            xy += 0.03 * (np.random.random((2, self.numpoints)) - 0.5)\n",
    "            s += 0.05 * (np.random.random(self.numpoints) - 0.5)\n",
    "            c += 0.02 * (np.random.random(self.numpoints) - 0.5)\n",
    "            yield data\n",
    "\n",
    "    def update(self, i):\n",
    "        \"\"\"Update the scatter plot.\"\"\"\n",
    "        data = next(self.stream)\n",
    "\n",
    "        # Set x and y data...\n",
    "        self.scat.set_offsets(data[:2, :])\n",
    "        # Set sizes...\n",
    "        self.scat._sizes = 300 * abs(data[2])**1.5 + 100\n",
    "        # Set colors..\n",
    "        self.scat.set_array(data[3])\n",
    "\n",
    "        # We need to return the updated artist for FuncAnimation to draw..\n",
    "        # Note that it expects a sequence of artists, thus the trailing comma.\n",
    "        return self.scat,\n",
    "\n",
    "    def show(self):\n",
    "        plt.show()\n",
    "\n",
    "if __name__ == '__main__':\n",
    "    a = AnimatedScatter()\n",
    "    a.show()"
   ]
  },
  {
   "cell_type": "code",
   "execution_count": 92,
   "metadata": {},
   "outputs": [
    {
     "data": {
      "text/plain": [
       "[<matplotlib.lines.Line2D at 0x2464d71d898>]"
      ]
     },
     "execution_count": 92,
     "metadata": {},
     "output_type": "execute_result"
    },
    {
     "data": {
      "image/png": "[encoded data removed]",
      "text/plain": [
       "<Figure size 432x288 with 1 Axes>"
      ]
     },
     "metadata": {
      "needs_background": "light"
     },
     "output_type": "display_data"
    }
   ],
   "source": [
    "plt.figure()\n",
    "robust_mahal2.sort()\n",
    "plt.plot(robust_mahal2)\n",
    "plt.plot(250,robust_mahal2.max()*.87,'r*')"
   ]
  },
  {
   "cell_type": "code",
   "execution_count": 129,
   "metadata": {},
   "outputs": [],
   "source": [
    "label_true = loadmat('2'+dataset+'_mask')['BW'] \n",
    "a = label_true==1"
   ]
  },
  {
   "cell_type": "code",
   "execution_count": 130,
   "metadata": {},
   "outputs": [
    {
     "data": {
      "text/plain": [
       "array([[-7.83411847e-03,  3.47943573e-03],\n",
       "       [-1.68191468e-02,  3.81078370e-03],\n",
       "       [-1.43660056e-02,  4.11715326e-03],\n",
       "       [-6.32381515e-03, -2.09535946e-03],\n",
       "       [ 9.94941532e-04, -2.46569978e-04],\n",
       "       [ 1.07862393e-02,  4.05091528e-03],\n",
       "       [-1.72272685e-02,  1.25197588e-03],\n",
       "       [-2.26052547e-02,  2.53036834e-03],\n",
       "       [-2.12993453e-02, -1.79569256e-03],\n",
       "       [-1.86016268e-02,  1.43474718e-03],\n",
       "       [-6.41192460e-03, -2.41310461e-03],\n",
       "       [-1.18761611e-02, -2.94378985e-03],\n",
       "       [-8.08557380e-03, -7.00111636e-04],\n",
       "       [ 6.41733348e-04,  2.31350417e-03],\n",
       "       [ 5.10814413e-03,  1.83499130e-03],\n",
       "       [-9.56308186e-03,  8.45615022e-04],\n",
       "       [-3.13278322e-02,  1.80617428e-03],\n",
       "       [-2.93093785e-02,  2.58762516e-03],\n",
       "       [-2.77157309e-02,  5.51262527e-04],\n",
       "       [-2.15816029e-02,  8.84113101e-04],\n",
       "       [-1.19189940e-02, -2.35707310e-03],\n",
       "       [-1.15885156e-02, -2.50207807e-03],\n",
       "       [-1.22602126e-02, -1.51164803e-03],\n",
       "       [-1.68155675e-04, -6.35432939e-03],\n",
       "       [ 1.88251421e-03, -1.15116050e-03],\n",
       "       [-2.05786109e-02,  7.32635883e-04],\n",
       "       [-2.90890985e-02, -2.48147044e-04],\n",
       "       [-2.25248555e-02,  4.33394203e-03],\n",
       "       [-2.68911525e-02,  1.87555685e-03],\n",
       "       [-2.49369920e-02,  1.89246041e-03],\n",
       "       [-1.38797456e-02, -2.01175299e-03],\n",
       "       [ 1.79528080e-03, -7.32131952e-03],\n",
       "       [-7.42779092e-04, -1.44299722e-03],\n",
       "       [-1.35657086e-02, -2.14405164e-03],\n",
       "       [-1.56851376e-02, -4.03267682e-04],\n",
       "       [-1.17614720e-02,  4.05398573e-03],\n",
       "       [-2.46124219e-02,  3.84045477e-03],\n",
       "       [-2.38888377e-02,  1.40816695e-04],\n",
       "       [-2.40691372e-02,  4.39021001e-03],\n",
       "       [-3.24025417e-02,  9.09903722e-04],\n",
       "       [-2.85795451e-02,  3.15241957e-03],\n",
       "       [-1.70902003e-02,  5.58647869e-05],\n",
       "       [ 1.38088810e-03, -3.25390667e-03],\n",
       "       [ 6.94602610e-03, -6.09547647e-03],\n",
       "       [-1.38163261e-02,  2.09850044e-03],\n",
       "       [-2.25218634e-02,  1.54193538e-03],\n",
       "       [-1.35100104e-02, -2.78620444e-03],\n",
       "       [-1.20611351e-02,  6.04651120e-03],\n",
       "       [-2.19209171e-02,  4.35295019e-03],\n",
       "       [-1.69503263e-02, -2.75571797e-05],\n",
       "       [-2.51341692e-02,  3.86535049e-03],\n",
       "       [-3.32086943e-02,  2.34156963e-03],\n",
       "       [-2.85074968e-02,  2.25059182e-03],\n",
       "       [-1.80498422e-02, -1.37925265e-03],\n",
       "       [-9.75669936e-03,  3.72569767e-03],\n",
       "       [-1.24261128e-03, -8.69275600e-03],\n",
       "       [-5.76082340e-03,  3.15577617e-04],\n",
       "       [-1.10435654e-02, -6.43024827e-03],\n",
       "       [-2.38304189e-02, -6.41810028e-04],\n",
       "       [-8.13073569e-03,  3.39651477e-03],\n",
       "       [-2.13762957e-02, -2.17373851e-03],\n",
       "       [-2.56042640e-02, -1.32084012e-03],\n",
       "       [-2.87882930e-02,  4.26200140e-03],\n",
       "       [-3.31205965e-02,  3.84620230e-03],\n",
       "       [-2.47910244e-02,  1.96945130e-03],\n",
       "       [-2.50250473e-02, -1.35225036e-03],\n",
       "       [-1.56006429e-02,  3.22418112e-03],\n",
       "       [-1.32778814e-02, -1.07023592e-03],\n",
       "       [-1.40065828e-03, -1.58428792e-03],\n",
       "       [-3.27925568e-03, -4.34776783e-04],\n",
       "       [-1.46029220e-02,  6.33420282e-03],\n",
       "       [-4.21052220e-03,  4.15305956e-03],\n",
       "       [-2.52726104e-02,  2.02256433e-03],\n",
       "       [-2.02791136e-02,  1.70471731e-03],\n",
       "       [-1.72820306e-02, -1.33642253e-04],\n",
       "       [-2.52950116e-02, -3.35894106e-03],\n",
       "       [-2.39172181e-02,  3.14093356e-03],\n",
       "       [-2.20011049e-02, -3.65765960e-03],\n",
       "       [-1.99540202e-02, -2.26436736e-03],\n",
       "       [-2.07940677e-02, -5.17749159e-03],\n",
       "       [-8.86024237e-03,  4.44179015e-03],\n",
       "       [-1.82296265e-03,  3.88566571e-03],\n",
       "       [-1.97663204e-02,  2.10394977e-03],\n",
       "       [-1.72995984e-02,  4.73736680e-03],\n",
       "       [-1.62166247e-02,  1.20511874e-03],\n",
       "       [-2.15233829e-02, -6.60136104e-04],\n",
       "       [-2.51829149e-02, -1.54956521e-03],\n",
       "       [-2.88884633e-02, -3.78762051e-03],\n",
       "       [-2.39047889e-02, -1.47011760e-03],\n",
       "       [-1.85941651e-02, -3.88354307e-03],\n",
       "       [-1.50936730e-02,  3.67728528e-03],\n",
       "       [-8.18231446e-03,  6.93082007e-03],\n",
       "       [-1.12377962e-03,  5.63667461e-03],\n",
       "       [-9.90892535e-03, -2.71467172e-04],\n",
       "       [-6.90596118e-03, -3.01335670e-03],\n",
       "       [-1.00264190e-02, -1.00420736e-03],\n",
       "       [-1.98499193e-02,  4.21996215e-03],\n",
       "       [-1.89849422e-02, -2.18707699e-03],\n",
       "       [-2.11227540e-02,  3.07800625e-03],\n",
       "       [-2.16993575e-02, -1.98485074e-03],\n",
       "       [-1.72587041e-02, -7.03532142e-04],\n",
       "       [-1.08584569e-02,  1.23532731e-03],\n",
       "       [-8.22005098e-03,  6.44729196e-03],\n",
       "       [-2.52131316e-03,  3.55431883e-03],\n",
       "       [-9.39844379e-03,  5.45594451e-03],\n",
       "       [-2.10414827e-02,  2.40200388e-03],\n",
       "       [-9.29748969e-03, -8.17984411e-03],\n",
       "       [-1.42614604e-02, -1.90098076e-03],\n",
       "       [-1.60902140e-02, -4.46865867e-04],\n",
       "       [-2.17449751e-02,  1.11663352e-03],\n",
       "       [-1.57710014e-02, -3.84157210e-04],\n",
       "       [-5.42479937e-03, -1.46719780e-04],\n",
       "       [-7.34417647e-03, -1.91126290e-03],\n",
       "       [-1.31768165e-02,  2.09778929e-03],\n",
       "       [-1.91982055e-02,  1.36873789e-03],\n",
       "       [-1.73103774e-02,  4.97318435e-04],\n",
       "       [-1.45257125e-02, -1.61600459e-03],\n",
       "       [-6.47707483e-03, -8.25849540e-04],\n",
       "       [-2.53631937e-02, -9.28787235e-03],\n",
       "       [-1.30884913e-02, -7.26752515e-04],\n",
       "       [-1.42014258e-02,  6.33318572e-04],\n",
       "       [-2.22733629e-02, -3.55366903e-03],\n",
       "       [-2.36396165e-02, -3.81891104e-03],\n",
       "       [-1.80629901e-02,  2.39914139e-03],\n",
       "       [-1.35376337e-02, -3.16926839e-03],\n",
       "       [-7.06286647e-03,  2.04155690e-03],\n",
       "       [-5.25127940e-03, -9.31092384e-04],\n",
       "       [-2.07658991e-02, -2.11309508e-03],\n",
       "       [-2.02628495e-02,  2.49275204e-03],\n",
       "       [-1.81821624e-02,  1.81936167e-03],\n",
       "       [-1.58940220e-02, -6.72449168e-03],\n",
       "       [-2.74052715e-02, -3.81914462e-04],\n",
       "       [-2.88239453e-02,  4.09712619e-03],\n",
       "       [-1.80817226e-02, -2.99142351e-03],\n",
       "       [-8.48673919e-03, -2.87294759e-04],\n",
       "       [-1.44109790e-02, -6.72613078e-03],\n",
       "       [-2.14645621e-02, -5.29503554e-03],\n",
       "       [-1.58625687e-02, -2.19172227e-03],\n",
       "       [-1.65360335e-02, -4.89894779e-03],\n",
       "       [-1.83931003e-02,  1.24839136e-03],\n",
       "       [-3.07936170e-02, -2.20707195e-03],\n",
       "       [-3.20447524e-02,  2.43586091e-03],\n",
       "       [-1.86340717e-02, -4.78896455e-03],\n",
       "       [-1.24581389e-02, -3.24320997e-03],\n",
       "       [-1.66346841e-02, -1.36729913e-03],\n",
       "       [-1.97988956e-02, -1.17152403e-04],\n",
       "       [-1.78406438e-02,  3.19649086e-03],\n",
       "       [-1.38727568e-02, -1.22755181e-03],\n",
       "       [-1.38557279e-02, -6.21655248e-03],\n",
       "       [-1.60733905e-02, -5.97692007e-03],\n",
       "       [-2.60598959e-02, -1.25563429e-03],\n",
       "       [-2.58631715e-02,  1.17051894e-03],\n",
       "       [-1.39119435e-02, -3.26823992e-03],\n",
       "       [-1.88737678e-02, -3.59979399e-03],\n",
       "       [-1.64799230e-02, -6.35266379e-05],\n",
       "       [-5.76381464e-03,  7.33981628e-04],\n",
       "       [-1.65535370e-02,  7.70168685e-04],\n",
       "       [-1.77884138e-02,  5.39573815e-04],\n",
       "       [-1.64438953e-02, -1.93824891e-03],\n",
       "       [-2.26499438e-02,  2.81832926e-05],\n",
       "       [-3.03880071e-02, -4.32255606e-03],\n",
       "       [-2.18078198e-02, -3.65970561e-03],\n",
       "       [-2.04027392e-02, -7.16990826e-03],\n",
       "       [-1.78284295e-02, -6.30513522e-03],\n",
       "       [-2.33832804e-02, -6.16122277e-03],\n",
       "       [-2.01460396e-02, -6.02395679e-03],\n",
       "       [-7.59654507e-03,  2.31593960e-03],\n",
       "       [-1.72903565e-02, -6.23503679e-03],\n",
       "       [-2.53305186e-02, -7.79936976e-03],\n",
       "       [-2.93732385e-02, -4.48169359e-03],\n",
       "       [-2.23059557e-02, -2.27058336e-03],\n",
       "       [-2.36414917e-02, -3.32530552e-03],\n",
       "       [-2.53510513e-02, -8.28196834e-03],\n",
       "       [-2.29924260e-02, -1.09104888e-02],\n",
       "       [-2.20272764e-02, -1.04393622e-02],\n",
       "       [-2.53197406e-02, -3.77250472e-03],\n",
       "       [-3.24256699e-02, -9.68394217e-03],\n",
       "       [-3.53908341e-02, -4.07253709e-03],\n",
       "       [-2.10323480e-02, -4.27299020e-03],\n",
       "       [-1.07639026e-02, -3.66484587e-03],\n",
       "       [-2.19838130e-02, -8.88794115e-03],\n",
       "       [-2.44388933e-02, -2.85809808e-03],\n",
       "       [-2.29998914e-02,  8.24167118e-04],\n",
       "       [-1.07643708e-02, -6.92075257e-04],\n",
       "       [-9.73079318e-03, -1.63331370e-03],\n",
       "       [-1.80388975e-02, -6.60854949e-03],\n",
       "       [-1.93961383e-02, -2.85521641e-03],\n",
       "       [-2.37812449e-02, -8.73094805e-04],\n",
       "       [-1.96250086e-02, -7.55364013e-03],\n",
       "       [-2.51914669e-02, -2.05193975e-03],\n",
       "       [-1.94309212e-02, -9.61825749e-04],\n",
       "       [-2.24874421e-02, -7.12414617e-03],\n",
       "       [-2.47086268e-02,  6.05814873e-05],\n",
       "       [-1.83477180e-02,  4.30814634e-03],\n",
       "       [-1.70770620e-02, -1.25407105e-03],\n",
       "       [-9.63219766e-03, -6.58567698e-03],\n",
       "       [-2.28280821e-02, -1.53866708e-03],\n",
       "       [-2.21833324e-02, -8.71335048e-04],\n",
       "       [-1.85550259e-02,  3.51199580e-04],\n",
       "       [-1.30329312e-02,  2.14617607e-03],\n",
       "       [-2.13760545e-02, -1.69180781e-03],\n",
       "       [-1.07379032e-02, -1.73020763e-03],\n",
       "       [-2.61388984e-02, -1.54871251e-03],\n",
       "       [-2.60666876e-02, -2.79827023e-04],\n",
       "       [-2.19871350e-02, -2.64871526e-04],\n",
       "       [-1.83117735e-02, -4.38065097e-03],\n",
       "       [-1.46416246e-02, -2.47470351e-03],\n",
       "       [-2.76853569e-02, -2.02051489e-04],\n",
       "       [-2.66483943e-02,  1.36235437e-03],\n",
       "       [-2.44279362e-02,  9.83242633e-04],\n",
       "       [-2.06031677e-02, -1.08342666e-03],\n",
       "       [-2.38951187e-02,  5.66871753e-04],\n",
       "       [-1.43385014e-02,  2.72104501e-03],\n",
       "       [-3.08935266e-02,  3.27171371e-03],\n",
       "       [-2.88220005e-02,  5.05514450e-04],\n",
       "       [-2.96013522e-02, -5.69717911e-04],\n",
       "       [-2.76865586e-02,  1.04372302e-03],\n",
       "       [-2.57305550e-02, -1.64155637e-03],\n",
       "       [-2.17442254e-02,  1.87050296e-04],\n",
       "       [-2.35338690e-02,  7.21236981e-04],\n",
       "       [-3.56375295e-02,  2.65312733e-03],\n",
       "       [-1.62677820e-02,  3.93149166e-04],\n",
       "       [-1.30706203e-02, -8.06693752e-04],\n",
       "       [-2.57132291e-02, -2.60412728e-03],\n",
       "       [-3.25678848e-02, -5.95373165e-03],\n",
       "       [-2.79139687e-02, -5.46126646e-03],\n",
       "       [-3.18183147e-02,  1.25707469e-03],\n",
       "       [-3.24946594e-02,  3.11879577e-03],\n",
       "       [-2.81024065e-02,  3.41130192e-04],\n",
       "       [-2.01555475e-02, -2.41803198e-03],\n",
       "       [-1.80355645e-02, -2.50754430e-03],\n",
       "       [-2.53749566e-02, -1.59584740e-04],\n",
       "       [-2.83972102e-02, -1.37374889e-03],\n",
       "       [-2.00038728e-02, -1.13669354e-03],\n",
       "       [-8.32180363e-03,  9.89938199e-04],\n",
       "       [-1.94749316e-02, -2.14890032e-03],\n",
       "       [-2.35131404e-02, -7.97048121e-04],\n",
       "       [-1.68345488e-02,  1.14766148e-03],\n",
       "       [-8.93792316e-03,  7.95395402e-04],\n",
       "       [-1.70471133e-02,  3.17920303e-03],\n",
       "       [-2.52382792e-02,  6.12214333e-03],\n",
       "       [-2.09150803e-02, -5.68902598e-04],\n",
       "       [-2.51562193e-02,  1.38392158e-03],\n",
       "       [-2.49847835e-02,  3.04202902e-03],\n",
       "       [-2.20420523e-02,  3.56600010e-03],\n",
       "       [-1.92113371e-02,  1.86970212e-03],\n",
       "       [-1.03519223e-02, -8.89999813e-04],\n",
       "       [-1.61212945e-02, -1.32060983e-04],\n",
       "       [-2.52632953e-02, -1.11348379e-03],\n",
       "       [-1.80549378e-02,  1.44001399e-03],\n",
       "       [-2.04957498e-02,  9.56606968e-06],\n",
       "       [-1.68378096e-02,  1.87737023e-03],\n",
       "       [-2.02164119e-02,  1.31695708e-03],\n",
       "       [-1.67473827e-02, -1.59446731e-03],\n",
       "       [-3.59568678e-03, -1.24351523e-03],\n",
       "       [-1.23632134e-02, -2.58369252e-03],\n",
       "       [-1.49670280e-02, -2.84982841e-03],\n",
       "       [-1.41041963e-02, -6.07678646e-04],\n",
       "       [-7.24435577e-03, -2.13392424e-04],\n",
       "       [-1.46903307e-02,  3.47404782e-03],\n",
       "       [-1.38913600e-02,  2.01089106e-03],\n",
       "       [-1.21221411e-02, -3.85936267e-04],\n",
       "       [-9.71573450e-03,  3.90976877e-03],\n",
       "       [-4.24717639e-03, -6.59899900e-05],\n",
       "       [-7.29304440e-03, -1.32127900e-03],\n",
       "       [-1.64661212e-02, -3.34514077e-03],\n",
       "       [-1.18699272e-02,  1.30849612e-03],\n",
       "       [-9.46968062e-03,  5.70696796e-04],\n",
       "       [-3.52573336e-03,  2.89295229e-03],\n",
       "       [-9.52176671e-03, -2.56693123e-04],\n",
       "       [-1.27243546e-02, -2.47766544e-03],\n",
       "       [-8.58906630e-03, -1.42616761e-03],\n",
       "       [-9.58174982e-03, -3.00011485e-03],\n",
       "       [-6.57988864e-03, -8.64030996e-04],\n",
       "       [-1.64011647e-02, -2.43952514e-03],\n",
       "       [-1.06246199e-02, -3.52962333e-03],\n",
       "       [-9.95358540e-03, -8.35796759e-04],\n",
       "       [-1.56232105e-02, -1.33435083e-03],\n",
       "       [-8.93058375e-03,  2.78776229e-04],\n",
       "       [-3.74624297e-03, -3.18466086e-03],\n",
       "       [-5.10491091e-03, -3.30485183e-03],\n",
       "       [-1.55838205e-03, -2.13132438e-03],\n",
       "       [-8.02584589e-03,  3.64925311e-03],\n",
       "       [-8.61891388e-03,  3.63457607e-03],\n",
       "       [-1.32693829e-02,  1.44298225e-04],\n",
       "       [-1.54043848e-02, -2.12711545e-04],\n",
       "       [-1.45531855e-02,  6.18054028e-04],\n",
       "       [-1.13221873e-02, -2.49228882e-04],\n",
       "       [-1.33264250e-02, -2.23241290e-03],\n",
       "       [-1.81901697e-02, -2.20962312e-03],\n",
       "       [-1.36658851e-02, -3.73349086e-03],\n",
       "       [-6.48822204e-03,  6.80883524e-04],\n",
       "       [-3.94848979e-03,  1.21118295e-03],\n",
       "       [-3.55323603e-03,  4.40821065e-03],\n",
       "       [-1.37598854e-02,  4.08231538e-03],\n",
       "       [-1.33460223e-02,  2.87537800e-03],\n",
       "       [-1.30028316e-02,  9.89306392e-04],\n",
       "       [-1.40274516e-02, -1.87412073e-03],\n",
       "       [-1.92388458e-02,  3.50142852e-03],\n",
       "       [-2.29728786e-02,  4.18180682e-03],\n",
       "       [-2.05868718e-02,  1.74957296e-03],\n",
       "       [-1.70618036e-02, -5.62515356e-05],\n",
       "       [-1.22049209e-02,  5.55075952e-04],\n",
       "       [-7.50756888e-03, -2.17862965e-03],\n",
       "       [-8.60847432e-03, -6.93582282e-04],\n",
       "       [-1.07723337e-02, -5.60147602e-03],\n",
       "       [-1.31251150e-02,  2.60892379e-03],\n",
       "       [-1.88317352e-02,  9.85756002e-04],\n",
       "       [-2.12102642e-02,  2.88191122e-04],\n",
       "       [-2.17769333e-02,  4.78570597e-03],\n",
       "       [-1.16031748e-02, -2.12783572e-03],\n",
       "       [-1.16232849e-02, -2.67653564e-03],\n",
       "       [-9.86022004e-03,  1.66596367e-03],\n",
       "       [-1.25755143e-02, -4.25877549e-03],\n",
       "       [-1.19449598e-02, -2.96097135e-03],\n",
       "       [-9.89212033e-03, -2.65078322e-03],\n",
       "       [-1.11761301e-02,  2.09555586e-03],\n",
       "       [-1.64548503e-02,  4.48376089e-04],\n",
       "       [-2.11007113e-02,  2.94417795e-03],\n",
       "       [-1.77067426e-02,  3.71495358e-03],\n",
       "       [-8.24233509e-03,  1.86990300e-04],\n",
       "       [-5.58213621e-03, -3.13269844e-03],\n",
       "       [-8.69067373e-03,  2.84887953e-03],\n",
       "       [-1.36994755e-02,  4.14382994e-03],\n",
       "       [-1.66790924e-02, -1.53564904e-04],\n",
       "       [-1.18177242e-02, -3.35760252e-03],\n",
       "       [-1.58324411e-02,  1.94661768e-03],\n",
       "       [-1.44712453e-02,  3.89295889e-03],\n",
       "       [-8.79335170e-03,  3.09583470e-03],\n",
       "       [-6.99999881e-03, -2.64557040e-03],\n",
       "       [-5.20773733e-03,  2.90304520e-03],\n",
       "       [-3.46863814e-03,  1.31702385e-02],\n",
       "       [-1.30670422e-02,  4.80960753e-03],\n",
       "       [-9.70885285e-03,  1.95378137e-04]])"
      ]
     },
     "execution_count": 130,
     "metadata": {},
     "output_type": "execute_result"
    }
   ],
   "source": [
    "X[[i for i, x in enumerate(a) if x],:]"
   ]
  },
  {
   "cell_type": "code",
   "execution_count": 127,
   "metadata": {},
   "outputs": [
    {
     "data": {
      "text/plain": [
       "(1360, 1)"
      ]
     },
     "execution_count": 127,
     "metadata": {},
     "output_type": "execute_result"
    }
   ],
   "source": [
    "label_true.shape"
   ]
  },
  {
   "cell_type": "code",
   "execution_count": 128,
   "metadata": {},
   "outputs": [
    {
     "data": {
      "text/plain": [
       "array([[False],\n",
       "       [False],\n",
       "       [False],\n",
       "       ...,\n",
       "       [False],\n",
       "       [False],\n",
       "       [False]])"
      ]
     },
     "execution_count": 128,
     "metadata": {},
     "output_type": "execute_result"
    }
   ],
   "source": [
    "label_true==1"
   ]
  },
  {
   "cell_type": "code",
   "execution_count": null,
   "metadata": {},
   "outputs": [],
   "source": []
  }
 ],
 "metadata": {
  "kernelspec": {
   "display_name": "Python 3",
   "language": "python",
   "name": "python3"
  },
  "language_info": {
   "codemirror_mode": {
    "name": "ipython",
    "version": 3
   },
   "file_extension": ".py",
   "mimetype": "text/x-python",
   "name": "python",
   "nbconvert_exporter": "python",
   "pygments_lexer": "ipython3",
   "version": "3.6.4"
  }
 },
 "nbformat": 4,
 "nbformat_minor": 2
}
